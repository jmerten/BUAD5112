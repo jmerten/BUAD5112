{
 "cells": [
  {
   "cell_type": "markdown",
   "metadata": {},
   "source": [
    "# Preliminaries"
   ]
  },
  {
   "cell_type": "code",
   "execution_count": 7,
   "metadata": {
    "collapsed": true
   },
   "outputs": [],
   "source": [
    "import requests"
   ]
  },
  {
   "cell_type": "markdown",
   "metadata": {},
   "source": [
    "# Analysis\n",
    "\n",
    "We've executed a program like this before, in which we changed the default header content.\n",
    "\n",
    "In the second cell below we see what the default header would have been."
   ]
  },
  {
   "cell_type": "code",
   "execution_count": null,
   "metadata": {
    "collapsed": true
   },
   "outputs": [],
   "source": [
    "url = 'https://www.airbnb.com/api/v2/calendar_months?key=d306zoyjsyarp7ifhu67rjxn52tv0t20&currency=USD&locale=en&listing_id=11944853&month=10&year=2018&count=3&_format=with_conditions'\n",
    "\n",
    "\"\"\" Two options for header text to send with our Internet infomration request \"\"\"\n",
    "#header = {}\n",
    "header = {\"User-Agent\": \"Mozilla/5.0 (Windows NT 6.1; WOW64) AppleWebKit/537.36 (KHTML, like Gecko) Chrome/50.0.2661.102 Safari/537.36\"}\n",
    "\n",
    "\"\"\" Request data \"\"\"\n",
    "response = requests.get(url, headers=header)\n",
    "json = response.json()\n",
    "print('Number of months:', len(json['calendar_months']))\n",
    "\n",
    "\"\"\" Print select data fields \"\"\"\n",
    "print(json['calendar_months'][0]['days'][0]['date'])\n",
    "print(json['calendar_months'][0]['days'][0]['available'])\n",
    "print(json['calendar_months'][0]['days'][0]['price']['local_price_formatted'])\n",
    "\n",
    "\"\"\" Print the number of days data in each month \"\"\"\n",
    "template1 = 'Number of days in month %s: %s'\n",
    "for i in range(len(json['calendar_months'])):\n",
    "    print(template1 %(i,len(json['calendar_months'][i]['days'])))\n",
    "\n",
    "\"\"\" Print selected field for each day in each month \"\"\"\n",
    "for month in json['calendar_months']:\n",
    "    print(month)\n",
    "    for day in month['days']:    #json['calendar_months'][]\n",
    "        print(day)\n",
    "        print(day.keys())\n",
    "        print(day['price'].keys())\n",
    "        print(day['date'],day['available'], day['price']['local_price_formatted'])"
   ]
  },
  {
   "cell_type": "code",
   "execution_count": 6,
   "metadata": {},
   "outputs": [
    {
     "name": "stdout",
     "output_type": "stream",
     "text": [
      "{'User-Agent': 'python-requests/2.18.4', 'Accept-Encoding': 'gzip, deflate', 'Accept': '*/*', 'Connection': 'keep-alive'}\n"
     ]
    }
   ],
   "source": [
    "url = 'https://www.airbnb.com/api/v2/calendar_months?key=d306zoyjsyarp7ifhu67rjxn52tv0t20&currency=USD&locale=en&listing_id=11944853&month=10&year=2018&count=3&_format=with_conditions'\n",
    "r = requests.get(url)\n",
    "print(r.request.headers)"
   ]
  },
  {
   "cell_type": "markdown",
   "metadata": {},
   "source": [
    "The header dictionary key-value pair 'User-Agent': 'python-requests/2.18.4' indicates to a Internet server that the request is being made programmatically by a Python package named requests.\n",
    "\n",
    "The User-Agent element that we created to replace this,\n",
    "\n",
    "\"User-Agent\": \"Mozilla/5.0 (Windows NT 6.1; WOW64) AppleWebKit/537.36 (KHTML, like Gecko) Chrome/50.0.2661.102 Safari/537.36\"\n",
    "\n",
    "would normally indicate somebody browsing manually with a web browser such as Google Chrome."
   ]
  },
  {
   "cell_type": "code",
   "execution_count": null,
   "metadata": {
    "collapsed": true
   },
   "outputs": [],
   "source": []
  }
 ],
 "metadata": {
  "kernelspec": {
   "display_name": "Python 3",
   "language": "python",
   "name": "python3"
  },
  "language_info": {
   "codemirror_mode": {
    "name": "ipython",
    "version": 3
   },
   "file_extension": ".py",
   "mimetype": "text/x-python",
   "name": "python",
   "nbconvert_exporter": "python",
   "pygments_lexer": "ipython3",
   "version": "3.6.3"
  }
 },
 "nbformat": 4,
 "nbformat_minor": 2
}
