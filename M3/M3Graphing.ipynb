{
 "metadata": {
  "language_info": {
   "codemirror_mode": {
    "name": "ipython",
    "version": 3
   },
   "file_extension": ".py",
   "mimetype": "text/x-python",
   "name": "python",
   "nbconvert_exporter": "python",
   "pygments_lexer": "ipython3",
   "version": "3.7.8-final"
  },
  "orig_nbformat": 2,
  "kernelspec": {
   "name": "python38332bitd34c9fd46bc34f8fa8356cbacee01665",
   "display_name": "Python 3.8.3 32-bit"
  }
 },
 "nbformat": 4,
 "nbformat_minor": 2,
 "cells": [
  {
   "source": [
    "# M3: Advanced Matplotlib Graphing Assignment\n",
    "Jason Merten"
   ],
   "cell_type": "markdown",
   "metadata": {}
  },
  {
   "cell_type": "code",
   "execution_count": 1,
   "metadata": {},
   "outputs": [
    {
     "output_type": "stream",
     "name": "stdout",
     "text": [
      "c:\\Users\\jmert\\Documents\\W&M\\BUAD5112\\M3\n"
     ]
    }
   ],
   "source": [
    "import pandas as pd \n",
    "import matplotlib.pyplot as plt \n",
    "import numpy as np \n",
    "%matplotlib inline\n",
    "from os import getcwd\n",
    "print(getcwd())"
   ]
  },
  {
   "cell_type": "code",
   "execution_count": 16,
   "metadata": {},
   "outputs": [
    {
     "output_type": "execute_result",
     "data": {
      "text/plain": [
       "        Date  Total  Private  Public\n",
       "0 2002-01-01  59516    45273   14243\n",
       "1 2002-02-01  58588    44475   14113\n",
       "2 2002-03-01  63782    49396   14386\n",
       "3 2002-04-01  69504    53283   16221\n",
       "4 2002-05-01  73384    55009   18375"
      ],
      "text/html": "<div>\n<style scoped>\n    .dataframe tbody tr th:only-of-type {\n        vertical-align: middle;\n    }\n\n    .dataframe tbody tr th {\n        vertical-align: top;\n    }\n\n    .dataframe thead th {\n        text-align: right;\n    }\n</style>\n<table border=\"1\" class=\"dataframe\">\n  <thead>\n    <tr style=\"text-align: right;\">\n      <th></th>\n      <th>Date</th>\n      <th>Total</th>\n      <th>Private</th>\n      <th>Public</th>\n    </tr>\n  </thead>\n  <tbody>\n    <tr>\n      <th>0</th>\n      <td>2002-01-01</td>\n      <td>59516</td>\n      <td>45273</td>\n      <td>14243</td>\n    </tr>\n    <tr>\n      <th>1</th>\n      <td>2002-02-01</td>\n      <td>58588</td>\n      <td>44475</td>\n      <td>14113</td>\n    </tr>\n    <tr>\n      <th>2</th>\n      <td>2002-03-01</td>\n      <td>63782</td>\n      <td>49396</td>\n      <td>14386</td>\n    </tr>\n    <tr>\n      <th>3</th>\n      <td>2002-04-01</td>\n      <td>69504</td>\n      <td>53283</td>\n      <td>16221</td>\n    </tr>\n    <tr>\n      <th>4</th>\n      <td>2002-05-01</td>\n      <td>73384</td>\n      <td>55009</td>\n      <td>18375</td>\n    </tr>\n  </tbody>\n</table>\n</div>"
     },
     "metadata": {},
     "execution_count": 16
    }
   ],
   "source": [
    "data = pd.read_csv('ConstructionTimeSeriesDataV2.csv')\n",
    "data.rename(columns={'Month-Year':'Date','Total Construction':'Total','Private Construction':'Private','Public Construction':'Public'},inplace=True)\n",
    "data.Date = '1-'+data.Date\n",
    "data.Date = pd.to_datetime(data.Date,dayfirst=True)\n",
    "data.drop(['Month'],axis=1,inplace=True)\n",
    "data.head()\n"
   ]
  },
  {
   "cell_type": "code",
   "execution_count": 17,
   "metadata": {},
   "outputs": [
    {
     "output_type": "execute_result",
     "data": {
      "text/plain": [
       "               Total       Private        Public\n",
       "count     146.000000    146.000000    146.000000\n",
       "mean    79470.671233  57372.205479  22098.561644\n",
       "std     14283.534186  12879.092813   4718.077475\n",
       "min     50544.000000  32069.000000  13689.000000\n",
       "25%     69537.500000  46728.750000  18506.750000\n",
       "50%     77923.000000  55955.500000  21513.000000\n",
       "75%     88064.750000  66920.750000  25746.750000\n",
       "max    110434.000000  84649.000000  31786.000000"
      ],
      "text/html": "<div>\n<style scoped>\n    .dataframe tbody tr th:only-of-type {\n        vertical-align: middle;\n    }\n\n    .dataframe tbody tr th {\n        vertical-align: top;\n    }\n\n    .dataframe thead th {\n        text-align: right;\n    }\n</style>\n<table border=\"1\" class=\"dataframe\">\n  <thead>\n    <tr style=\"text-align: right;\">\n      <th></th>\n      <th>Total</th>\n      <th>Private</th>\n      <th>Public</th>\n    </tr>\n  </thead>\n  <tbody>\n    <tr>\n      <th>count</th>\n      <td>146.000000</td>\n      <td>146.000000</td>\n      <td>146.000000</td>\n    </tr>\n    <tr>\n      <th>mean</th>\n      <td>79470.671233</td>\n      <td>57372.205479</td>\n      <td>22098.561644</td>\n    </tr>\n    <tr>\n      <th>std</th>\n      <td>14283.534186</td>\n      <td>12879.092813</td>\n      <td>4718.077475</td>\n    </tr>\n    <tr>\n      <th>min</th>\n      <td>50544.000000</td>\n      <td>32069.000000</td>\n      <td>13689.000000</td>\n    </tr>\n    <tr>\n      <th>25%</th>\n      <td>69537.500000</td>\n      <td>46728.750000</td>\n      <td>18506.750000</td>\n    </tr>\n    <tr>\n      <th>50%</th>\n      <td>77923.000000</td>\n      <td>55955.500000</td>\n      <td>21513.000000</td>\n    </tr>\n    <tr>\n      <th>75%</th>\n      <td>88064.750000</td>\n      <td>66920.750000</td>\n      <td>25746.750000</td>\n    </tr>\n    <tr>\n      <th>max</th>\n      <td>110434.000000</td>\n      <td>84649.000000</td>\n      <td>31786.000000</td>\n    </tr>\n  </tbody>\n</table>\n</div>"
     },
     "metadata": {},
     "execution_count": 17
    }
   ],
   "source": [
    "data.describe()"
   ]
  },
  {
   "cell_type": "code",
   "execution_count": 63,
   "metadata": {},
   "outputs": [
    {
     "output_type": "execute_result",
     "data": {
      "text/plain": [
       "     Month       Date  Total  Private  Public\n",
       "141    142 2013-10-01  85193    59370   25823\n",
       "142    143 2013-11-01  77931    55191   22741\n",
       "143    144 2013-12-01  71502    52132   19369\n",
       "144    145 2014-01-01  64661    47827   16834\n",
       "145    146 2014-02-01  63368    46647   16721"
      ],
      "text/html": "<div>\n<style scoped>\n    .dataframe tbody tr th:only-of-type {\n        vertical-align: middle;\n    }\n\n    .dataframe tbody tr th {\n        vertical-align: top;\n    }\n\n    .dataframe thead th {\n        text-align: right;\n    }\n</style>\n<table border=\"1\" class=\"dataframe\">\n  <thead>\n    <tr style=\"text-align: right;\">\n      <th></th>\n      <th>Month</th>\n      <th>Date</th>\n      <th>Total</th>\n      <th>Private</th>\n      <th>Public</th>\n    </tr>\n  </thead>\n  <tbody>\n    <tr>\n      <th>141</th>\n      <td>142</td>\n      <td>2013-10-01</td>\n      <td>85193</td>\n      <td>59370</td>\n      <td>25823</td>\n    </tr>\n    <tr>\n      <th>142</th>\n      <td>143</td>\n      <td>2013-11-01</td>\n      <td>77931</td>\n      <td>55191</td>\n      <td>22741</td>\n    </tr>\n    <tr>\n      <th>143</th>\n      <td>144</td>\n      <td>2013-12-01</td>\n      <td>71502</td>\n      <td>52132</td>\n      <td>19369</td>\n    </tr>\n    <tr>\n      <th>144</th>\n      <td>145</td>\n      <td>2014-01-01</td>\n      <td>64661</td>\n      <td>47827</td>\n      <td>16834</td>\n    </tr>\n    <tr>\n      <th>145</th>\n      <td>146</td>\n      <td>2014-02-01</td>\n      <td>63368</td>\n      <td>46647</td>\n      <td>16721</td>\n    </tr>\n  </tbody>\n</table>\n</div>"
     },
     "metadata": {},
     "execution_count": 63
    }
   ],
   "source": [
    "data.tail()"
   ]
  },
  {
   "cell_type": "code",
   "execution_count": null,
   "metadata": {},
   "outputs": [],
   "source": []
  }
 ]
}