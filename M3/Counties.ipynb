{
 "cells": [
  {
   "cell_type": "markdown",
   "metadata": {},
   "source": [
    "We will use the .value_counts() method of pandas DataFrames (actually, pandas Series) to count how many states use each of the unique county names"
   ]
  },
  {
   "cell_type": "code",
   "execution_count": 1,
   "metadata": {
    "collapsed": true
   },
   "outputs": [],
   "source": [
    "import pandas as pd"
   ]
  },
  {
   "cell_type": "code",
   "execution_count": 2,
   "metadata": {},
   "outputs": [
    {
     "data": {
      "text/html": [
       "<div>\n",
       "<style>\n",
       "    .dataframe thead tr:only-child th {\n",
       "        text-align: right;\n",
       "    }\n",
       "\n",
       "    .dataframe thead th {\n",
       "        text-align: left;\n",
       "    }\n",
       "\n",
       "    .dataframe tbody tr th {\n",
       "        vertical-align: top;\n",
       "    }\n",
       "</style>\n",
       "<table border=\"1\" class=\"dataframe\">\n",
       "  <thead>\n",
       "    <tr style=\"text-align: right;\">\n",
       "      <th></th>\n",
       "      <th>State Postal</th>\n",
       "      <th>Unnamed: 1</th>\n",
       "      <th>County Number</th>\n",
       "      <th>FIPS Code</th>\n",
       "      <th>County Name</th>\n",
       "    </tr>\n",
       "  </thead>\n",
       "  <tbody>\n",
       "    <tr>\n",
       "      <th>0</th>\n",
       "      <td>AK</td>\n",
       "      <td>AK Alaska</td>\n",
       "      <td>1</td>\n",
       "      <td>0</td>\n",
       "      <td>Alaska</td>\n",
       "    </tr>\n",
       "    <tr>\n",
       "      <th>1</th>\n",
       "      <td>AK</td>\n",
       "      <td>AK Alaska</td>\n",
       "      <td>2001</td>\n",
       "      <td>2000</td>\n",
       "      <td>Alaska</td>\n",
       "    </tr>\n",
       "    <tr>\n",
       "      <th>2</th>\n",
       "      <td>AL</td>\n",
       "      <td>AL Alabama</td>\n",
       "      <td>1</td>\n",
       "      <td>0</td>\n",
       "      <td>Alabama</td>\n",
       "    </tr>\n",
       "    <tr>\n",
       "      <th>3</th>\n",
       "      <td>AL</td>\n",
       "      <td>AL Autauga</td>\n",
       "      <td>1001</td>\n",
       "      <td>1001</td>\n",
       "      <td>Autauga</td>\n",
       "    </tr>\n",
       "    <tr>\n",
       "      <th>4</th>\n",
       "      <td>AL</td>\n",
       "      <td>AL Baldwin</td>\n",
       "      <td>1002</td>\n",
       "      <td>1003</td>\n",
       "      <td>Baldwin</td>\n",
       "    </tr>\n",
       "  </tbody>\n",
       "</table>\n",
       "</div>"
      ],
      "text/plain": [
       "  State Postal  Unnamed: 1  County Number  FIPS Code County Name\n",
       "0           AK   AK Alaska              1          0      Alaska\n",
       "1           AK   AK Alaska           2001       2000      Alaska\n",
       "2           AL  AL Alabama              1          0     Alabama\n",
       "3           AL  AL Autauga           1001       1001     Autauga\n",
       "4           AL  AL Baldwin           1002       1003     Baldwin"
      ]
     },
     "execution_count": 2,
     "metadata": {},
     "output_type": "execute_result"
    }
   ],
   "source": [
    "df = pd.read_csv('Counties.csv')\n",
    "df.head()"
   ]
  },
  {
   "cell_type": "code",
   "execution_count": 3,
   "metadata": {},
   "outputs": [
    {
     "data": {
      "text/plain": [
       "State Postal     4639\n",
       "Unnamed: 1       4639\n",
       "County Number    4639\n",
       "FIPS Code        4639\n",
       "County Name      4639\n",
       "dtype: int64"
      ]
     },
     "execution_count": 3,
     "metadata": {},
     "output_type": "execute_result"
    }
   ],
   "source": [
    "df.count()"
   ]
  },
  {
   "cell_type": "code",
   "execution_count": 4,
   "metadata": {},
   "outputs": [
    {
     "data": {
      "text/plain": [
       "State Postal     4588\n",
       "Unnamed: 1       4588\n",
       "County Number    4588\n",
       "FIPS Code        4588\n",
       "County Name      4588\n",
       "dtype: int64"
      ]
     },
     "execution_count": 4,
     "metadata": {},
     "output_type": "execute_result"
    }
   ],
   "source": [
    "df = df.loc[df['FIPS Code'] !=0]\n",
    "df.count()"
   ]
  },
  {
   "cell_type": "code",
   "execution_count": 5,
   "metadata": {},
   "outputs": [
    {
     "data": {
      "text/plain": [
       "Washington        33\n",
       "Jefferson         28\n",
       "Lincoln           28\n",
       "Franklin          27\n",
       "Jackson           26\n",
       "Madison           23\n",
       "Monroe            21\n",
       "Union             20\n",
       "Warren            20\n",
       "Montgomery        20\n",
       "Marion            18\n",
       "Clay              18\n",
       "Wayne             17\n",
       "Grant             15\n",
       "Greene            15\n",
       "Lee               15\n",
       "Hancock           13\n",
       "Johnson           13\n",
       "Carroll           13\n",
       "Adams             13\n",
       "Douglas           13\n",
       "Clinton           12\n",
       "Fayette           12\n",
       "Crawford          12\n",
       "Clark             12\n",
       "Lawrence          12\n",
       "Marshall          12\n",
       "Lake              12\n",
       "Randolph          12\n",
       "Polk              12\n",
       "                  ..\n",
       "Keith              1\n",
       "Waseca             1\n",
       "Tuscaloosa         1\n",
       "Schuylkill         1\n",
       "Lynnfield          1\n",
       "Fisher             1\n",
       "Ozaukee            1\n",
       "Croydon            1\n",
       "Henniker           1\n",
       "Levant             1\n",
       "Castle Hill        1\n",
       "Orangeburg         1\n",
       "St. Tammany        1\n",
       "Whatcom            1\n",
       "Dixie              1\n",
       "Baxter             1\n",
       "West Hartford      1\n",
       "Danby              1\n",
       "Pine               1\n",
       "Chicot             1\n",
       "Rappahannock       1\n",
       "Scarborough        1\n",
       "Callahan           1\n",
       "King and Queen     1\n",
       "Dunstable          1\n",
       "Keene              1\n",
       "Jaffrey            1\n",
       "Westmore           1\n",
       "Massac             1\n",
       "Brooke             1\n",
       "Name: County Name, Length: 2739, dtype: int64"
      ]
     },
     "execution_count": 5,
     "metadata": {},
     "output_type": "execute_result"
    }
   ],
   "source": [
    "df['County Name'].value_counts()"
   ]
  },
  {
   "cell_type": "code",
   "execution_count": null,
   "metadata": {
    "collapsed": true
   },
   "outputs": [],
   "source": []
  }
 ],
 "metadata": {
  "kernelspec": {
   "display_name": "Python 3",
   "language": "python",
   "name": "python3"
  },
  "language_info": {
   "codemirror_mode": {
    "name": "ipython",
    "version": 3
   },
   "file_extension": ".py",
   "mimetype": "text/x-python",
   "name": "python",
   "nbconvert_exporter": "python",
   "pygments_lexer": "ipython3",
   "version": "3.6.3"
  }
 },
 "nbformat": 4,
 "nbformat_minor": 2
}
