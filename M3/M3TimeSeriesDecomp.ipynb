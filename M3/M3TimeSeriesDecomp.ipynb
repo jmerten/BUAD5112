{
 "metadata": {
  "language_info": {
   "codemirror_mode": {
    "name": "ipython",
    "version": 3
   },
   "file_extension": ".py",
   "mimetype": "text/x-python",
   "name": "python",
   "nbconvert_exporter": "python",
   "pygments_lexer": "ipython3",
   "version": "3.7.8-final"
  },
  "orig_nbformat": 2,
  "kernelspec": {
   "name": "python38332bitd34c9fd46bc34f8fa8356cbacee01665",
   "display_name": "Python 3.8.3 32-bit"
  }
 },
 "nbformat": 4,
 "nbformat_minor": 2,
 "cells": [
  {
   "cell_type": "code",
   "execution_count": 2,
   "metadata": {},
   "outputs": [
    {
     "output_type": "stream",
     "name": "stdout",
     "text": [
      "c:\\Users\\jmert\\Documents\\W&M\\BUAD5112\\M3\n"
     ]
    }
   ],
   "source": [
    "import pandas as pd \n",
    "import matplotlib.pyplot as plt \n",
    "import numpy as np \n",
    "%matplotlib inline\n",
    "print(os.getcwd())"
   ]
  },
  {
   "cell_type": "code",
   "execution_count": 4,
   "metadata": {},
   "outputs": [
    {
     "output_type": "execute_result",
     "data": {
      "text/plain": [
       "   Month Month-Year  Total Construction  Private Construction  \\\n",
       "0      1     Jan-02               59516                 45273   \n",
       "1      2     Feb-02               58588                 44475   \n",
       "2      3     Mar-02               63782                 49396   \n",
       "3      4     Apr-02               69504                 53283   \n",
       "4      5     May-02               73384                 55009   \n",
       "\n",
       "   Public Construction  \n",
       "0                14243  \n",
       "1                14113  \n",
       "2                14386  \n",
       "3                16221  \n",
       "4                18375  "
      ],
      "text/html": "<div>\n<style scoped>\n    .dataframe tbody tr th:only-of-type {\n        vertical-align: middle;\n    }\n\n    .dataframe tbody tr th {\n        vertical-align: top;\n    }\n\n    .dataframe thead th {\n        text-align: right;\n    }\n</style>\n<table border=\"1\" class=\"dataframe\">\n  <thead>\n    <tr style=\"text-align: right;\">\n      <th></th>\n      <th>Month</th>\n      <th>Month-Year</th>\n      <th>Total Construction</th>\n      <th>Private Construction</th>\n      <th>Public Construction</th>\n    </tr>\n  </thead>\n  <tbody>\n    <tr>\n      <th>0</th>\n      <td>1</td>\n      <td>Jan-02</td>\n      <td>59516</td>\n      <td>45273</td>\n      <td>14243</td>\n    </tr>\n    <tr>\n      <th>1</th>\n      <td>2</td>\n      <td>Feb-02</td>\n      <td>58588</td>\n      <td>44475</td>\n      <td>14113</td>\n    </tr>\n    <tr>\n      <th>2</th>\n      <td>3</td>\n      <td>Mar-02</td>\n      <td>63782</td>\n      <td>49396</td>\n      <td>14386</td>\n    </tr>\n    <tr>\n      <th>3</th>\n      <td>4</td>\n      <td>Apr-02</td>\n      <td>69504</td>\n      <td>53283</td>\n      <td>16221</td>\n    </tr>\n    <tr>\n      <th>4</th>\n      <td>5</td>\n      <td>May-02</td>\n      <td>73384</td>\n      <td>55009</td>\n      <td>18375</td>\n    </tr>\n  </tbody>\n</table>\n</div>"
     },
     "metadata": {},
     "execution_count": 4
    }
   ],
   "source": [
    "df = pd.read_csv('ConstructionTimeSeriesDatav2.csv')\n",
    "df.head()"
   ]
  },
  {
   "cell_type": "code",
   "execution_count": null,
   "metadata": {},
   "outputs": [],
   "source": []
  }
 ]
}